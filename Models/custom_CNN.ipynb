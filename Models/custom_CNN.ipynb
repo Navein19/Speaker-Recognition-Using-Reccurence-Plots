{
  "nbformat": 4,
  "nbformat_minor": 0,
  "metadata": {
    "colab": {
      "name": "custom_CNN.ipynb",
      "provenance": [],
      "collapsed_sections": [],
      "include_colab_link": true
    },
    "kernelspec": {
      "name": "python3",
      "display_name": "Python 3"
    },
    "accelerator": "GPU"
  },
  "cells": [
    {
      "cell_type": "markdown",
      "metadata": {
        "id": "view-in-github",
        "colab_type": "text"
      },
      "source": [
        "<a href=\"https://colab.research.google.com/github/ngdeva99/MottaBOSS/blob/master/Models/custom_CNN.ipynb\" target=\"_parent\"><img src=\"https://colab.research.google.com/assets/colab-badge.svg\" alt=\"Open In Colab\"/></a>"
      ]
    },
    {
      "cell_type": "code",
      "metadata": {
        "id": "VNqz5XlgZn8o",
        "colab_type": "code",
        "colab": {}
      },
      "source": [
        "from google.colab import drive\n",
        "drive.mount('/gdrive')\n",
        "!unzip '/gdrive/My Drive/0_split.zip'"
      ],
      "execution_count": null,
      "outputs": []
    },
    {
      "cell_type": "code",
      "metadata": {
        "id": "GGdivvg-OIL6",
        "colab_type": "code",
        "colab": {}
      },
      "source": [
        "from keras.preprocessing.image import ImageDataGenerator\n",
        "import keras\n",
        "from keras.models import Sequential\n",
        "from keras.layers import Dense, Activation, Dropout, Flatten, Conv2D, MaxPooling2D\n",
        "from keras.layers.normalization import BatchNormalization\n",
        "from keras.optimizers import Adam,Adadelta\n",
        "import numpy as np"
      ],
      "execution_count": null,
      "outputs": []
    },
    {
      "cell_type": "code",
      "metadata": {
        "id": "0oQt46QEufsM",
        "colab_type": "code",
        "colab": {}
      },
      "source": [
        "datagen = ImageDataGenerator()"
      ],
      "execution_count": null,
      "outputs": []
    },
    {
      "cell_type": "code",
      "metadata": {
        "id": "IzVeKAhmvF30",
        "colab_type": "code",
        "colab": {
          "base_uri": "https://localhost:8080/",
          "height": 67
        },
        "outputId": "bd2fafa2-37e3-4617-8fa5-8b91288a076f"
      },
      "source": [
        "train_it = datagen.flow_from_directory('0_split/train/', class_mode='categorical', batch_size=128)\n",
        "# load and iterate validation dataset\n",
        "val_it = datagen.flow_from_directory('0_split/validation/', class_mode='categorical', batch_size=128)\n",
        "# load and iterate test dataset\n",
        "test_it = datagen.flow_from_directory('0_split/test/', class_mode='categorical', batch_size=128)\n"
      ],
      "execution_count": null,
      "outputs": [
        {
          "output_type": "stream",
          "text": [
            "Found 53484 images belonging to 4 classes.\n",
            "Found 7182 images belonging to 4 classes.\n",
            "Found 14364 images belonging to 4 classes.\n"
          ],
          "name": "stdout"
        }
      ]
    },
    {
      "cell_type": "code",
      "metadata": {
        "id": "MBUqP9W8vNtK",
        "colab_type": "code",
        "colab": {
          "base_uri": "https://localhost:8080/",
          "height": 890
        },
        "outputId": "bf003ad7-3b2c-4e64-e14e-6009eedd02d8"
      },
      "source": [
        "AlexNet = Sequential()\n",
        "\n",
        "#1st Convolutional Layer\n",
        "AlexNet.add(Conv2D(filters=16, input_shape=(256,256,3), kernel_size=(3,3), strides=(2,2), padding='valid'))\n",
        "AlexNet.add(Activation('relu'))\n",
        "\n",
        "AlexNet.add(Conv2D(filters=16, kernel_size=(3,3), strides=(2,2), padding='valid'))\n",
        "AlexNet.add(Activation('relu'))\n",
        "\n",
        "#2nd Convolutional Layer\n",
        "AlexNet.add(Conv2D(filters=32, kernel_size=(3,3), strides=(2,2), padding='valid'))\n",
        "AlexNet.add(Activation('relu'))\n",
        "\n",
        "#3rd Convolutional Layer\n",
        "AlexNet.add(Conv2D(filters=32, kernel_size=(3,3), strides=(2,2), padding='valid'))\n",
        "AlexNet.add(Activation('relu'))\n",
        "\n",
        "# 1st Max pooling Layer\n",
        "AlexNet.add(MaxPooling2D(pool_size=(2,2), strides=(1,1), padding='valid'))\n",
        "AlexNet.add(Dropout(0.25))\n",
        "\n",
        "#3rd Convolutional Layer\n",
        "AlexNet.add(Conv2D(filters=64, kernel_size=(3,3), strides=(2,2), padding='valid'))\n",
        "AlexNet.add(Activation('relu'))\n",
        "\n",
        "#4th Convolutional Layer\n",
        "AlexNet.add(Conv2D(filters=64, kernel_size=(3,3), strides=(2,2), padding='valid'))\n",
        "AlexNet.add(Activation('relu'))\n",
        "\n",
        "# 2nd Max pooling Layer\n",
        "AlexNet.add(MaxPooling2D(pool_size=(2,2), strides=(1,1), padding='valid'))\n",
        "AlexNet.add(Dropout(0.25))\n",
        "\n",
        "AlexNet.add(Flatten())\n",
        "\n",
        "######################\n",
        "# 1st Fully Connected Layer\n",
        "#AlexNet.add(Dense(512, input_shape=(224*224*3,)))\n",
        "#######################\n",
        "\n",
        "AlexNet.add(Dense(512))\n",
        "AlexNet.add(Activation('relu'))\n",
        "AlexNet.add(Dropout(0.50))\n",
        "\n",
        "# Output Layer\n",
        "AlexNet.add(Dense(4))\n",
        "AlexNet.add(Activation('softmax'))\n",
        "\n",
        "#Model Summary\n",
        "AlexNet.summary()"
      ],
      "execution_count": null,
      "outputs": [
        {
          "output_type": "stream",
          "text": [
            "Model: \"sequential_1\"\n",
            "_________________________________________________________________\n",
            "Layer (type)                 Output Shape              Param #   \n",
            "=================================================================\n",
            "conv2d_1 (Conv2D)            (None, 127, 127, 16)      448       \n",
            "_________________________________________________________________\n",
            "activation_1 (Activation)    (None, 127, 127, 16)      0         \n",
            "_________________________________________________________________\n",
            "conv2d_2 (Conv2D)            (None, 63, 63, 16)        2320      \n",
            "_________________________________________________________________\n",
            "activation_2 (Activation)    (None, 63, 63, 16)        0         \n",
            "_________________________________________________________________\n",
            "conv2d_3 (Conv2D)            (None, 31, 31, 32)        4640      \n",
            "_________________________________________________________________\n",
            "activation_3 (Activation)    (None, 31, 31, 32)        0         \n",
            "_________________________________________________________________\n",
            "conv2d_4 (Conv2D)            (None, 15, 15, 32)        9248      \n",
            "_________________________________________________________________\n",
            "activation_4 (Activation)    (None, 15, 15, 32)        0         \n",
            "_________________________________________________________________\n",
            "max_pooling2d_1 (MaxPooling2 (None, 14, 14, 32)        0         \n",
            "_________________________________________________________________\n",
            "dropout_1 (Dropout)          (None, 14, 14, 32)        0         \n",
            "_________________________________________________________________\n",
            "conv2d_5 (Conv2D)            (None, 6, 6, 64)          18496     \n",
            "_________________________________________________________________\n",
            "activation_5 (Activation)    (None, 6, 6, 64)          0         \n",
            "_________________________________________________________________\n",
            "conv2d_6 (Conv2D)            (None, 2, 2, 64)          36928     \n",
            "_________________________________________________________________\n",
            "activation_6 (Activation)    (None, 2, 2, 64)          0         \n",
            "_________________________________________________________________\n",
            "max_pooling2d_2 (MaxPooling2 (None, 1, 1, 64)          0         \n",
            "_________________________________________________________________\n",
            "dropout_2 (Dropout)          (None, 1, 1, 64)          0         \n",
            "_________________________________________________________________\n",
            "flatten_1 (Flatten)          (None, 64)                0         \n",
            "_________________________________________________________________\n",
            "dense_1 (Dense)              (None, 512)               33280     \n",
            "_________________________________________________________________\n",
            "activation_7 (Activation)    (None, 512)               0         \n",
            "_________________________________________________________________\n",
            "dropout_3 (Dropout)          (None, 512)               0         \n",
            "_________________________________________________________________\n",
            "dense_2 (Dense)              (None, 4)                 2052      \n",
            "_________________________________________________________________\n",
            "activation_8 (Activation)    (None, 4)                 0         \n",
            "=================================================================\n",
            "Total params: 107,412\n",
            "Trainable params: 107,412\n",
            "Non-trainable params: 0\n",
            "_________________________________________________________________\n"
          ],
          "name": "stdout"
        }
      ]
    },
    {
      "cell_type": "code",
      "metadata": {
        "id": "PcvV0QEL2Hcw",
        "colab_type": "code",
        "colab": {}
      },
      "source": [
        "opt = Adam(lr = 0.001)"
      ],
      "execution_count": null,
      "outputs": []
    },
    {
      "cell_type": "code",
      "metadata": {
        "id": "M-800MfIvbX9",
        "colab_type": "code",
        "colab": {}
      },
      "source": [
        "AlexNet.compile(loss = keras.losses.categorical_crossentropy, optimizer=opt, metrics=['accuracy'])"
      ],
      "execution_count": null,
      "outputs": []
    },
    {
      "cell_type": "code",
      "metadata": {
        "id": "9HpGvxPEvh8-",
        "colab_type": "code",
        "colab": {}
      },
      "source": [
        "AlexNet.fit_generator(train_it, steps_per_epoch=16, validation_data=val_it, validation_steps=16, epochs=50)"
      ],
      "execution_count": null,
      "outputs": []
    },
    {
      "cell_type": "code",
      "metadata": {
        "id": "I32Kn42Zvpgw",
        "colab_type": "code",
        "colab": {}
      },
      "source": [
        "AlexNet.evaluate_generator(test_it, steps=24)"
      ],
      "execution_count": null,
      "outputs": []
    },
    {
      "cell_type": "markdown",
      "metadata": {
        "id": "8xog1veJx5hy",
        "colab_type": "text"
      },
      "source": [
        "# VGG 19 - 1024 extra "
      ]
    },
    {
      "cell_type": "code",
      "metadata": {
        "id": "AjZkS-AmjxpF",
        "colab_type": "code",
        "colab": {}
      },
      "source": [
        "from keras.applications import VGG19"
      ],
      "execution_count": 19,
      "outputs": []
    },
    {
      "cell_type": "code",
      "metadata": {
        "id": "Zo8uV0c98HbA",
        "colab_type": "code",
        "colab": {
          "base_uri": "https://localhost:8080/",
          "height": 50
        },
        "outputId": "b732c3e0-00b2-4a7f-f217-d41749d0899f"
      },
      "source": [
        "base_model = VGG19(include_top = False, weights = 'imagenet', input_shape = (256,256,3), classes = 4)"
      ],
      "execution_count": 20,
      "outputs": [
        {
          "output_type": "stream",
          "text": [
            "Downloading data from https://github.com/fchollet/deep-learning-models/releases/download/v0.1/vgg19_weights_tf_dim_ordering_tf_kernels_notop.h5\n",
            "80142336/80134624 [==============================] - 2s 0us/step\n"
          ],
          "name": "stdout"
        }
      ]
    },
    {
      "cell_type": "code",
      "metadata": {
        "id": "qFOu8iKv8mDU",
        "colab_type": "code",
        "colab": {}
      },
      "source": [
        "model= Sequential()\n",
        "model.add(base_model) \n",
        "model.add(Flatten())\n",
        "model.add(Dense(1024,activation=('relu')))\n",
        "model.add(Dropout(.3))\n",
        "#model.add(Dropout(.2))\n",
        "model.add(Dense(4,activation=('softmax'))) \n",
        "\n",
        "model.summary()"
      ],
      "execution_count": null,
      "outputs": []
    },
    {
      "cell_type": "code",
      "metadata": {
        "id": "5j2oWDnb8yhY",
        "colab_type": "code",
        "colab": {}
      },
      "source": [
        "## HYPER PARAMTERES\n",
        "from keras.optimizers import SGD\n",
        "batch_size= 100\n",
        "epochs=50\n",
        "learn_rate=0.001\n",
        "sgd=SGD(lr=learn_rate,momentum=.9,nesterov=False)\n",
        "adam=Adam(lr=learn_rate)"
      ],
      "execution_count": 39,
      "outputs": []
    },
    {
      "cell_type": "code",
      "metadata": {
        "id": "9sAFL0kU9wZx",
        "colab_type": "code",
        "colab": {}
      },
      "source": [
        "model.compile(optimizer=adam,loss='categorical_crossentropy',metrics=['accuracy'])"
      ],
      "execution_count": 40,
      "outputs": []
    },
    {
      "cell_type": "code",
      "metadata": {
        "id": "y-UUoUBb-Tl9",
        "colab_type": "code",
        "colab": {}
      },
      "source": [
        "from keras.callbacks import ReduceLROnPlateau\n",
        "lrr= ReduceLROnPlateau(monitor='val_acc', factor=.01, patience=3, min_lr=1e-5)"
      ],
      "execution_count": 28,
      "outputs": []
    },
    {
      "cell_type": "code",
      "metadata": {
        "id": "7XTKPveN99px",
        "colab_type": "code",
        "colab": {}
      },
      "source": [
        "\n",
        "model.fit_generator(train_it, steps_per_epoch=16, validation_data=val_it, validation_steps=16, epochs=32)"
      ],
      "execution_count": null,
      "outputs": []
    },
    {
      "cell_type": "code",
      "metadata": {
        "id": "0AE9RAS1-HPt",
        "colab_type": "code",
        "colab": {}
      },
      "source": [
        "model.evaluate_generator(test_it,steps=24\n",
        "               )"
      ],
      "execution_count": null,
      "outputs": []
    },
    {
      "cell_type": "markdown",
      "metadata": {
        "id": "1l681N5yFvdm",
        "colab_type": "text"
      },
      "source": [
        "STANDARD VGG19 - Transfer Learning"
      ]
    },
    {
      "cell_type": "code",
      "metadata": {
        "id": "u2Kp8NtDF08U",
        "colab_type": "code",
        "colab": {}
      },
      "source": [
        "vgg_model = VGG19(include_top = False, weights = 'imagenet', input_shape = (256,256,3), classes = 4)"
      ],
      "execution_count": 44,
      "outputs": []
    },
    {
      "cell_type": "code",
      "metadata": {
        "id": "eEzHOuH6F68X",
        "colab_type": "code",
        "colab": {}
      },
      "source": [
        "vgg_std_model= Sequential()\n",
        "vgg_std_model.add(base_model) \n",
        "vgg_std_model.add(Flatten())\n",
        "vgg_std_model.add(Dropout(.3))\n",
        "vgg_std_model.add(Dense(4,activation=('softmax'))) \n",
        "\n",
        "vgg_std_model.summary()"
      ],
      "execution_count": null,
      "outputs": []
    },
    {
      "cell_type": "code",
      "metadata": {
        "id": "Cu8NDqE4GSzv",
        "colab_type": "code",
        "colab": {}
      },
      "source": [
        "model.compile(optimizer=adam,loss='categorical_crossentropy',metrics=['accuracy'])"
      ],
      "execution_count": 47,
      "outputs": []
    },
    {
      "cell_type": "code",
      "metadata": {
        "id": "16l4ZcOXGbe-",
        "colab_type": "code",
        "colab": {}
      },
      "source": [
        "history_vgg_std = model.fit_generator(train_it, steps_per_epoch=16, validation_data=val_it, validation_steps=16, epochs=50)"
      ],
      "execution_count": null,
      "outputs": []
    },
    {
      "cell_type": "code",
      "metadata": {
        "id": "4tObIgz2Gf3q",
        "colab_type": "code",
        "colab": {}
      },
      "source": [
        ""
      ],
      "execution_count": null,
      "outputs": []
    }
  ]
}